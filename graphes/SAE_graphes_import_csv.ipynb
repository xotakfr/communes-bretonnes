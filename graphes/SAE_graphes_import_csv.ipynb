{
 "cells": [
  {
   "cell_type": "markdown",
   "id": "5e913a2b",
   "metadata": {},
   "source": [
    "# SAE2 : Communes bretonnes"
   ]
  },
  {
   "cell_type": "code",
   "execution_count": 1,
   "id": "dfa38376",
   "metadata": {
    "scrolled": true
   },
   "outputs": [],
   "source": [
    "# importation des packages\n",
    "import numpy as np\n",
    "import pandas as pd\n",
    "import seaborn as sns\n",
    "import ast as ast\n",
    "from geopy.distance import geodesic\n",
    "# importation des modules\n",
    "import scipy.stats as sps\n",
    "\n",
    "\n",
    "import networkx as nx\n",
    "\n",
    "\n",
    "import matplotlib.pyplot as plt\n",
    "%matplotlib inline\n",
    "import warnings\n",
    "warnings.filterwarnings('ignore')\n",
    "\n",
    "plt.rcParams[\"figure.figsize\"] = (20,15)"
   ]
  },
  {
   "cell_type": "markdown",
   "id": "f2e822b4",
   "metadata": {},
   "source": [
    "## Le but de ce fichier est construire un graphe networkx à partir de données géolocalisée csv\n",
    "\n",
    "### 1 Traitement des données csv :"
   ]
  },
  {
   "cell_type": "code",
   "execution_count": 2,
   "id": "a7a43dbc",
   "metadata": {},
   "outputs": [
    {
     "data": {
      "text/html": [
       "<div>\n",
       "<style scoped>\n",
       "    .dataframe tbody tr th:only-of-type {\n",
       "        vertical-align: middle;\n",
       "    }\n",
       "\n",
       "    .dataframe tbody tr th {\n",
       "        vertical-align: top;\n",
       "    }\n",
       "\n",
       "    .dataframe thead th {\n",
       "        text-align: right;\n",
       "    }\n",
       "</style>\n",
       "<table border=\"1\" class=\"dataframe\">\n",
       "  <thead>\n",
       "    <tr style=\"text-align: right;\">\n",
       "      <th></th>\n",
       "      <th>insee</th>\n",
       "      <th>nom</th>\n",
       "      <th>nb_voisins</th>\n",
       "      <th>insee_voisins</th>\n",
       "    </tr>\n",
       "  </thead>\n",
       "  <tbody>\n",
       "    <tr>\n",
       "      <th>0</th>\n",
       "      <td>22001</td>\n",
       "      <td>Allineuc</td>\n",
       "      <td>5</td>\n",
       "      <td>22203|22203|22384|22149|22009</td>\n",
       "    </tr>\n",
       "    <tr>\n",
       "      <th>1</th>\n",
       "      <td>22002</td>\n",
       "      <td>Andel</td>\n",
       "      <td>5</td>\n",
       "      <td>22093|22093|22044|22093|22093</td>\n",
       "    </tr>\n",
       "    <tr>\n",
       "      <th>2</th>\n",
       "      <td>22003</td>\n",
       "      <td>Aucaleuc</td>\n",
       "      <td>4</td>\n",
       "      <td>22259|22364|22388|22048</td>\n",
       "    </tr>\n",
       "    <tr>\n",
       "      <th>3</th>\n",
       "      <td>22004</td>\n",
       "      <td>Bégard</td>\n",
       "      <td>7</td>\n",
       "      <td>22041|22018|22310|22164|22135|22245|22254</td>\n",
       "    </tr>\n",
       "    <tr>\n",
       "      <th>4</th>\n",
       "      <td>22005</td>\n",
       "      <td>Belle-Isle-en-Terre</td>\n",
       "      <td>5</td>\n",
       "      <td>22135|22216|22129|22228|22359</td>\n",
       "    </tr>\n",
       "  </tbody>\n",
       "</table>\n",
       "</div>"
      ],
      "text/plain": [
       "   insee                  nom  nb_voisins  \\\n",
       "0  22001             Allineuc           5   \n",
       "1  22002                Andel           5   \n",
       "2  22003             Aucaleuc           4   \n",
       "3  22004               Bégard           7   \n",
       "4  22005  Belle-Isle-en-Terre           5   \n",
       "\n",
       "                               insee_voisins  \n",
       "0              22203|22203|22384|22149|22009  \n",
       "1              22093|22093|22044|22093|22093  \n",
       "2                    22259|22364|22388|22048  \n",
       "3  22041|22018|22310|22164|22135|22245|22254  \n",
       "4              22135|22216|22129|22228|22359  "
      ]
     },
     "execution_count": 2,
     "metadata": {},
     "output_type": "execute_result"
    }
   ],
   "source": [
    "# importation du fichier csv comme un panda dataframe\n",
    "communes=pd.read_csv(\"./DonneesFourniesGraphes/voisinageCommunesBretonnes.csv\", sep=';')\n",
    "\n",
    "#on affiche les premières lignes du fichier\n",
    "communes.head()\n",
    "\n"
   ]
  },
  {
   "cell_type": "code",
   "execution_count": 3,
   "id": "74422a31",
   "metadata": {},
   "outputs": [
    {
     "data": {
      "text/plain": [
       "Index(['insee', 'nom', 'nb_voisins', 'insee_voisins'], dtype='object')"
      ]
     },
     "execution_count": 3,
     "metadata": {},
     "output_type": "execute_result"
    }
   ],
   "source": [
    "communes.columns\n"
   ]
  },
  {
   "cell_type": "code",
   "execution_count": 4,
   "id": "7d566885",
   "metadata": {},
   "outputs": [
    {
     "name": "stdout",
     "output_type": "stream",
     "text": [
      "22203|22203|22384|22149|22009\n",
      "22203|22203|22384|22149|22009\n"
     ]
    },
    {
     "data": {
      "text/plain": [
       "[22203, 22203, 22384, 22149, 22009]"
      ]
     },
     "execution_count": 4,
     "metadata": {},
     "output_type": "execute_result"
    }
   ],
   "source": [
    "# adaptation du format des données en liste des voisins (exemple)\n",
    "print(communes['insee_voisins'][0])\n",
    "\n",
    "print(communes.iloc[0,3])\n",
    "\n",
    "[int(num) for num in communes['insee_voisins'][0].split('|')]\n"
   ]
  },
  {
   "cell_type": "code",
   "execution_count": 5,
   "id": "c68794aa",
   "metadata": {},
   "outputs": [],
   "source": [
    "#on enlève les voisins non bretons (22+29+35+56) et les boucles\n",
    "\n",
    "def amezek(com):\n",
    "    voisins = [int(num) for num in communes['insee_voisins'][com].split('|')]\n",
    "    amezek = []\n",
    "    for vois in voisins :\n",
    "        if (22000 <= vois and vois<23000) or (29000 <= vois and vois<30000) or (35000 <= vois and vois<36000) or (56000 <= vois and vois<57000) : #on reste en bretagne\n",
    "            if vois != communes['insee'][com] : #boucle\n",
    "                amezek.append(vois)\n",
    "    return amezek\n",
    "\n",
    "\n",
    "for x in range(len(communes['insee'])) : \n",
    "    amezek(x)"
   ]
  },
  {
   "cell_type": "code",
   "execution_count": 6,
   "id": "6270a875",
   "metadata": {},
   "outputs": [
    {
     "data": {
      "text/plain": [
       "[29064, 29198, 29091]"
      ]
     },
     "execution_count": 6,
     "metadata": {},
     "output_type": "execute_result"
    }
   ],
   "source": [
    "# Création d'un dictionaire représentant la liste des voisins, structure proche des graphes networkx\n",
    "\n",
    "voisins_dict = {communes['insee'][x] : amezek(x) for x in range(len(communes['insee']))}\n",
    "voisins_dict[29021]\n"
   ]
  },
  {
   "cell_type": "markdown",
   "id": "493a3d6f",
   "metadata": {},
   "source": [
    "### 2 Création d'un graphe en format networkx"
   ]
  },
  {
   "cell_type": "code",
   "execution_count": 7,
   "id": "f378b1f8",
   "metadata": {},
   "outputs": [
    {
     "name": "stdout",
     "output_type": "stream",
     "text": [
      "1197\n"
     ]
    }
   ],
   "source": [
    "#creation directe via l'outil networkx\n",
    "G = nx.from_dict_of_lists(voisins_dict)\n",
    "\n",
    "print(len(G.nodes))\n",
    "#for node in G.nodes:\n",
    "#    print(node)\n",
    "    "
   ]
  },
  {
   "cell_type": "code",
   "execution_count": null,
   "id": "6a1b8aeb",
   "metadata": {},
   "outputs": [],
   "source": [
    "#pour l'instant les sommets ne sont pas placés géographiquement\n",
    "nx.draw(G,pos=nx.spring_layout(G))\n"
   ]
  },
  {
   "cell_type": "markdown",
   "id": "b839bd3d",
   "metadata": {},
   "source": [
    "### 3 Exploitation des données géographiques"
   ]
  },
  {
   "cell_type": "code",
   "execution_count": null,
   "id": "4833bfdd",
   "metadata": {},
   "outputs": [],
   "source": [
    "#lecture des informations geographique\n",
    "\n",
    "geo=pd.read_csv(\"./DonneesFourniesGraphes/communes-geo.csv\", sep=';')\n",
    "\n",
    "geo.head()\n",
    "geo_lite = geo.iloc[:,[0,1,17,19]]\n",
    "\n",
    "geo_lite.columns\n",
    "\n",
    "geo_lite['Geo Point'][0]"
   ]
  },
  {
   "cell_type": "code",
   "execution_count": null,
   "id": "6e87efc4",
   "metadata": {},
   "outputs": [],
   "source": [
    "# adaptation du format des données de géolocalisation (exemple)\n",
    "ast.literal_eval(geo_lite['Geo Point'][0])\n",
    "\n",
    "# création de la colone Latitude\n",
    "geo_lite['Latitude']=geo_lite['Geo Point'].apply(lambda x : ast.literal_eval(x)[0])\n",
    "# création de la colone Longitude\n",
    "geo_lite['Longitude']=geo_lite['Geo Point'].apply(lambda x : ast.literal_eval(x)[1])\n",
    "\n",
    "geo_lite.head()"
   ]
  },
  {
   "cell_type": "code",
   "execution_count": null,
   "id": "c1e5675b",
   "metadata": {},
   "outputs": [],
   "source": [
    "#ajout des données géographique\n",
    "\n",
    "\n",
    "\n",
    "# proposition de dictionaire de position pour le tracé en networkx\n",
    "\n",
    "def pos_insee(G,data):\n",
    "    pos = {} #dictionnaire vide\n",
    "    for com in G.nodes:\n",
    "        y = float(data[data['Code Officiel Commune'] == com]['Latitude'].iloc[0])\n",
    "        x = float(data[data['Code Officiel Commune'] == com]['Longitude'].iloc[0])\n",
    "        #on peut adapter les coordonnées\n",
    "        #x=(x- 48.13380133652042)*1000\n",
    "        #y=(y+2.287539276431153)*1000\n",
    "    \n",
    "        pos[com]=[x,y]\n",
    "    \n",
    "    return pos\n",
    "\n",
    "pos_insee = pos_insee(G,geo_lite)\n",
    "#print(pos_insee)\n",
    "\n",
    "print(len(G.nodes)==len(pos_insee))\n",
    "\n",
    "print(pos_insee[56167])"
   ]
  },
  {
   "cell_type": "code",
   "execution_count": null,
   "id": "2d8ccdc7",
   "metadata": {},
   "outputs": [],
   "source": [
    "# proposition de dictionaire de label pour le tracé en networkx\n",
    "\n",
    "def label_insee(G,data):\n",
    "    label = {} #dictionnaire vide\n",
    "    for com in G.nodes:\n",
    "        lab = data[data['Code Officiel Commune'] == com]['Nom Officiel Commune'].iloc[0]\n",
    "    \n",
    "        label[com]=lab\n",
    "    \n",
    "    return label\n",
    "\n",
    "label_insee = label_insee(G,geo_lite)\n",
    "label_insee"
   ]
  },
  {
   "cell_type": "code",
   "execution_count": null,
   "id": "9c35955a",
   "metadata": {},
   "outputs": [],
   "source": [
    "nx.draw(G,pos=pos_insee,node_size=10, alpha=0.4, edge_color=\"r\", font_size=10, labels=label_insee)"
   ]
  },
  {
   "cell_type": "code",
   "execution_count": null,
   "id": "e0fa068a",
   "metadata": {},
   "outputs": [],
   "source": [
    "G.remove_edges_from(list(nx.selfloop_edges(G)))\n",
    "nx.draw(G,pos=pos_insee,node_size=10, alpha=0.4, edge_color=\"r\", font_size=16, with_labels=False)"
   ]
  },
  {
   "cell_type": "code",
   "execution_count": null,
   "id": "9fc8a628",
   "metadata": {},
   "outputs": [],
   "source": [
    "#on peut également utiliser des fonds de carte (via le format geojson par exemple)\n",
    "\n",
    "import geopandas\n",
    "region = geopandas.read_file(\"./DonneesFourniesGraphes/communes-geo.geojson\")\n",
    "\n",
    "\n",
    "plt.close()\n",
    "# plot with a nice basemap\n",
    "ax = region.plot(linewidth=1, edgecolor=\"grey\", facecolor=\"lightblue\")\n",
    "ax.axis(\"off\")\n",
    "nx.draw(G, pos=pos_insee, ax=ax,node_size=10, alpha=0.4, edge_color=\"r\")\n",
    "plt.show()"
   ]
  },
  {
   "cell_type": "code",
   "execution_count": null,
   "id": "84d6ecd1",
   "metadata": {},
   "outputs": [],
   "source": []
  },
  {
   "cell_type": "code",
   "execution_count": null,
   "id": "084042ff",
   "metadata": {},
   "outputs": [],
   "source": []
  },
  {
   "cell_type": "code",
   "execution_count": null,
   "id": "88d05c49",
   "metadata": {},
   "outputs": [],
   "source": []
  }
 ],
 "metadata": {
  "kernelspec": {
   "display_name": "Python 3",
   "language": "python",
   "name": "python3"
  },
  "language_info": {
   "codemirror_mode": {
    "name": "ipython",
    "version": 3
   },
   "file_extension": ".py",
   "mimetype": "text/x-python",
   "name": "python",
   "nbconvert_exporter": "python",
   "pygments_lexer": "ipython3",
   "version": "3.8.10"
  }
 },
 "nbformat": 4,
 "nbformat_minor": 5
}
